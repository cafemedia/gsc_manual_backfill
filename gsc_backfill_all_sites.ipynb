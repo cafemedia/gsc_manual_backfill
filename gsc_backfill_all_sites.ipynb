{
 "cells": [
  {
   "cell_type": "code",
   "execution_count": 1,
   "metadata": {},
   "outputs": [],
   "source": [
    "import pandas as pd\n",
    "import requests\n",
    "import time\n",
    "import snowflake.connector\n",
    "from snowflake.connector import SnowflakeConnection"
   ]
  },
  {
   "cell_type": "code",
   "execution_count": 2,
   "metadata": {},
   "outputs": [],
   "source": [
    "# Your copied token from Swagger or any Raptive endpoint\n",
    "AUTH_TOKEN = \"YOUR_AUTH_TOKEN\""
   ]
  },
  {
   "cell_type": "code",
   "execution_count": 3,
   "metadata": {},
   "outputs": [],
   "source": [
    "SNOWFLAKE_CONNECTION_PARAMS = {\n",
    "      \"account\": \"SNOWFLAKE_ACCOUNT\",\n",
    "      \"user\": \"SNOWFLAKE_USER\",\n",
    "      \"password\": \"SNOWFLAKE_PASSWORD\",\n",
    "      \"warehouse\": \"SNOWFLAKE_WAREHOUSE\",\n",
    "      \"schema\": \"SNOWFLAKE_SCHEMA\",\n",
    "  }"
   ]
  },
  {
   "cell_type": "code",
   "execution_count": 4,
   "metadata": {},
   "outputs": [],
   "source": [
    "def create_snowflake_connection(\n",
    "):\n",
    "  \"\"\"\n",
    "  Creates a connection to snowflake\n",
    "  \"\"\"\n",
    "  ctx = snowflake.connector.connect(\n",
    "      **(SNOWFLAKE_CONNECTION_PARAMS),\n",
    "  )\n",
    "  return ctx\n",
    "\n",
    "def get_snowflake_data(\n",
    "  ctx: SnowflakeConnection,\n",
    "  sql_script: str,\n",
    "  **script_params\n",
    "):\n",
    "  cur = ctx.cursor()\n",
    "  try:\n",
    "      cur.execute(sql_script, script_params)\n",
    "      df_temp = cur.fetch_pandas_all()\n",
    "      df_temp.columns = df_temp.columns.str.lower()\n",
    "  except Exception as e:\n",
    "      print(f\"Error in executing the SQL script: {e}\")\n",
    "      cur.close()\n",
    "      ctx.close()\n",
    "      raise\n",
    "  finally:\n",
    "      cur.close()\n",
    "      ctx.close()\n",
    "  return df_temp"
   ]
  },
  {
   "cell_type": "code",
   "execution_count": 5,
   "metadata": {},
   "outputs": [],
   "source": [
    "# Get Sites that need to be backfilled \n",
    "site_query = \"\"\"\n",
    "SELECT site_id\n",
    "from analytics.adthrive.site_extended\n",
    "where status = 'Active'\n",
    "\"\"\"\n",
    "ctx = create_snowflake_connection()\n",
    "df_sites = get_snowflake_data(ctx, site_query)"
   ]
  },
  {
   "cell_type": "code",
   "execution_count": 7,
   "metadata": {},
   "outputs": [],
   "source": [
    "# Your list of sites (replace with real site group identifiers or domains)\n",
    "site_ids = df_sites['site_id'].tolist()\n",
    "\n",
    "HEADERS = {\n",
    "    \"Authorization\": AUTH_TOKEN,\n",
    "    \"Content-Type\": \"application/json\"\n",
    "}\n",
    "\n",
    "# Endpoint from Swagger\n",
    "API_URL = \"https://api.raptive.com/api/v2/gscBackfill/group\"\n",
    "\n",
    "# Customize the date range to backfill\n",
    "def get_payload(site):\n",
    "    return {\n",
    "            \"siteId\": site,\n",
    "            \"periodStartDate\": \"2025-04-23\",\n",
    "            \"periodEndDate\": \"2025-04-23\",\n",
    "            \"status\": \"PENDING\"\n",
    "          }"
   ]
  },
  {
   "cell_type": "code",
   "execution_count": null,
   "metadata": {},
   "outputs": [],
   "source": [
    "# Make requests\n",
    "for site in site_ids:\n",
    "    payload = get_payload(site)\n",
    "    print(f\"\\nSending payload for {site}:\\n{payload}\")\n",
    "    \n",
    "    try:\n",
    "        response = requests.post(API_URL, headers=HEADERS, json=payload)\n",
    "        print(f\"Response [{response.status_code}]\")\n",
    "        \n",
    "        if response.status_code == 201 or response.status_code == 200:\n",
    "            print(f\"✅ Success: {site}\")\n",
    "        else:\n",
    "            print(f\"❌ Failed: {site}\")\n",
    "    except Exception as e:\n",
    "        print(f\"⚠️ Error for {site}: {str(e)}\")\n",
    "\n",
    "    time.sleep(1)\n",
    "\n"
   ]
  },
  {
   "cell_type": "code",
   "execution_count": 14,
   "metadata": {},
   "outputs": [
    {
     "data": {
      "text/plain": [
       "[{'backfillGroupId': 'bfbb9baa-5d47-49dd-8f79-bf8a6adc16d8',\n",
       "  'backfillEntries': [{'id': 85582,\n",
       "    'siteId': '67af8e7805195f08435b95f1',\n",
       "    'periodStartDate': '2025-04-23',\n",
       "    'periodEndDate': '2025-04-23',\n",
       "    'dimension': 'PAGE',\n",
       "    'status': 'PENDING',\n",
       "    'numFailedAttempts': 0},\n",
       "   {'id': 85583,\n",
       "    'siteId': '67af8e7805195f08435b95f1',\n",
       "    'periodStartDate': '2025-04-23',\n",
       "    'periodEndDate': '2025-04-23',\n",
       "    'dimension': 'DEVICE',\n",
       "    'status': 'PENDING',\n",
       "    'numFailedAttempts': 0},\n",
       "   {'id': 85584,\n",
       "    'siteId': '67af8e7805195f08435b95f1',\n",
       "    'periodStartDate': '2025-04-23',\n",
       "    'periodEndDate': '2025-04-23',\n",
       "    'dimension': 'KEYWORD',\n",
       "    'status': 'PENDING',\n",
       "    'numFailedAttempts': 0},\n",
       "   {'id': 85585,\n",
       "    'siteId': '67af8e7805195f08435b95f1',\n",
       "    'periodStartDate': '2025-04-23',\n",
       "    'periodEndDate': '2025-04-23',\n",
       "    'dimension': 'DISCOVER',\n",
       "    'status': 'PENDING',\n",
       "    'numFailedAttempts': 0}]}]"
      ]
     },
     "execution_count": 14,
     "metadata": {},
     "output_type": "execute_result"
    }
   ],
   "source": [
    "response.json()"
   ]
  }
 ],
 "metadata": {
  "kernelspec": {
   "display_name": "Python 3",
   "language": "python",
   "name": "python3"
  },
  "language_info": {
   "codemirror_mode": {
    "name": "ipython",
    "version": 3
   },
   "file_extension": ".py",
   "mimetype": "text/x-python",
   "name": "python",
   "nbconvert_exporter": "python",
   "pygments_lexer": "ipython3",
   "version": "3.10.7"
  }
 },
 "nbformat": 4,
 "nbformat_minor": 2
}
